{
 "cells": [
  {
   "cell_type": "markdown",
   "id": "7638d72f",
   "metadata": {},
   "source": [
    "(chapter1_part1)=\n",
    "\n",
    "# 123"
   ]
  },
  {
   "cell_type": "code",
   "execution_count": 1,
   "id": "d06ca14b",
   "metadata": {},
   "outputs": [],
   "source": [
    "import sympy as sym #to take derivatives of functions\n",
    "import matplotlib.pyplot as plt #to build graphs\n",
    "import numpy as np #to work with numbers\n",
    "%config InlineBackend.figure_format = 'retina' #to make sharper and prettier plots"
   ]
  },
  {
   "cell_type": "markdown",
   "id": "574f0331",
   "metadata": {},
   "source": [
    "Next step is to re-create our hypothetical dataset that we've been working with."
   ]
  },
  {
   "cell_type": "code",
   "execution_count": 2,
   "id": "6b7f996b",
   "metadata": {},
   "outputs": [
    {
     "name": "stdout",
     "output_type": "stream",
     "text": [
      "[[30]\n",
      " [46]\n",
      " [60]\n",
      " [65]\n",
      " [77]\n",
      " [95]]\n"
     ]
    }
   ],
   "source": [
    "x = np.array([[30], [46], [60], [65], [77], [95]])\n",
    "y = np.array([31, 30, 80, 49, 70, 118])\n",
    "print(x)"
   ]
  }
 ],
 "metadata": {
  "jupytext": {
   "formats": "md:myst",
   "text_representation": {
    "extension": ".md",
    "format_name": "myst"
   }
  },
  "kernelspec": {
   "display_name": "Python 3",
   "language": "python",
   "name": "python3"
  },
  "language_info": {
   "codemirror_mode": {
    "name": "ipython",
    "version": 3
   },
   "file_extension": ".py",
   "mimetype": "text/x-python",
   "name": "python",
   "nbconvert_exporter": "python",
   "pygments_lexer": "ipython3",
   "version": "3.10.7"
  },
  "source_map": [
   11,
   19,
   24,
   28
  ]
 },
 "nbformat": 4,
 "nbformat_minor": 5
}