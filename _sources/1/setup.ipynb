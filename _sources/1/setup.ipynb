{
 "cells": [
  {
   "cell_type": "markdown",
   "id": "a2ca3a75",
   "metadata": {},
   "source": [
    "(chapter1_part1)=\n",
    "\n",
    "# 123"
   ]
  },
  {
   "cell_type": "code",
   "execution_count": 1,
   "id": "2852e5da",
   "metadata": {},
   "outputs": [
    {
     "ename": "ModuleNotFoundError",
     "evalue": "No module named 'numpy'",
     "output_type": "error",
     "traceback": [
      "\u001b[0;31m---------------------------------------------------------------------------\u001b[0m",
      "\u001b[0;31mModuleNotFoundError\u001b[0m                       Traceback (most recent call last)",
      "Cell \u001b[0;32mIn[1], line 1\u001b[0m\n\u001b[0;32m----> 1\u001b[0m \u001b[38;5;28;01mimport\u001b[39;00m \u001b[38;5;21;01mnumpy\u001b[39;00m \u001b[38;5;28;01mas\u001b[39;00m \u001b[38;5;21;01mnp\u001b[39;00m \u001b[38;5;66;03m#to work with numbers\u001b[39;00m\n",
      "\u001b[0;31mModuleNotFoundError\u001b[0m: No module named 'numpy'"
     ]
    }
   ],
   "source": [
    "import numpy as np #to work with numbers"
   ]
  },
  {
   "cell_type": "markdown",
   "id": "19d31bce",
   "metadata": {},
   "source": [
    "Next step is to re-create our hypothetical dataset that we've been working with:"
   ]
  },
  {
   "cell_type": "code",
   "execution_count": null,
   "id": "0076c8e5",
   "metadata": {},
   "outputs": [],
   "source": [
    "x = np.array([[30], [46], [60], [65], [77], [95]])\n",
    "y = np.array([31, 30, 80, 49, 70, 118])\n",
    "print(x)"
   ]
  }
 ],
 "metadata": {
  "jupytext": {
   "formats": "md:myst",
   "text_representation": {
    "extension": ".md",
    "format_name": "myst"
   }
  },
  "kernelspec": {
   "display_name": "Python 3",
   "language": "python",
   "name": "python3"
  },
  "language_info": {
   "codemirror_mode": {
    "name": "ipython",
    "version": 3
   },
   "file_extension": ".py",
   "mimetype": "text/x-python",
   "name": "python",
   "nbconvert_exporter": "python",
   "pygments_lexer": "ipython3",
   "version": "3.9.16"
  },
  "source_map": [
   11,
   19,
   21,
   25
  ]
 },
 "nbformat": 4,
 "nbformat_minor": 5
}